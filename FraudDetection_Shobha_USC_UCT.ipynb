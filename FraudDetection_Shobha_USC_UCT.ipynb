{
 "cells": [
  {
   "cell_type": "markdown",
   "id": "e8626131-4125-40f0-b2f2-25eb7e4c39ce",
   "metadata": {},
   "source": [
    "# Fraud Detection Using Machine Learning"
   ]
  },
  {
   "cell_type": "markdown",
   "id": "8af6dbd6-2d41-44e8-97a1-6a4eae08c9b1",
   "metadata": {},
   "source": [
    "### Importing Required Libraries"
   ]
  },
  {
   "cell_type": "code",
   "execution_count": 1,
   "id": "e6a46d94-4e26-4aad-ba5f-ba03f6fc8fc7",
   "metadata": {},
   "outputs": [],
   "source": [
    "import pandas as pd\n",
    "import numpy as np\n",
    "import matplotlib.pyplot as plt\n",
    "import seaborn as sns\n",
    "\n",
    "from sklearn.model_selection import train_test_split\n",
    "from sklearn.preprocessing import StandardScaler\n",
    "from imblearn.over_sampling import SMOTE\n",
    "from sklearn.linear_model import LogisticRegression\n",
    "from sklearn.ensemble import RandomForestClassifier\n",
    "from sklearn.metrics import classification_report, confusion_matrix, accuracy_score"
   ]
  },
  {
   "cell_type": "markdown",
   "id": "0b995ead-2939-4ccf-b670-ae40778f1af5",
   "metadata": {},
   "source": [
    "### Loading the Dataset"
   ]
  },
  {
   "cell_type": "code",
   "execution_count": 2,
   "id": "84741d41-f245-47d4-820f-f3e0fc5920b0",
   "metadata": {},
   "outputs": [
    {
     "data": {
      "text/html": [
       "<div>\n",
       "<style scoped>\n",
       "    .dataframe tbody tr th:only-of-type {\n",
       "        vertical-align: middle;\n",
       "    }\n",
       "\n",
       "    .dataframe tbody tr th {\n",
       "        vertical-align: top;\n",
       "    }\n",
       "\n",
       "    .dataframe thead th {\n",
       "        text-align: right;\n",
       "    }\n",
       "</style>\n",
       "<table border=\"1\" class=\"dataframe\">\n",
       "  <thead>\n",
       "    <tr style=\"text-align: right;\">\n",
       "      <th></th>\n",
       "      <th>step</th>\n",
       "      <th>type</th>\n",
       "      <th>amount</th>\n",
       "      <th>nameOrig</th>\n",
       "      <th>oldbalanceOrg</th>\n",
       "      <th>newbalanceOrig</th>\n",
       "      <th>nameDest</th>\n",
       "      <th>oldbalanceDest</th>\n",
       "      <th>newbalanceDest</th>\n",
       "      <th>isFraud</th>\n",
       "      <th>isFlaggedFraud</th>\n",
       "    </tr>\n",
       "  </thead>\n",
       "  <tbody>\n",
       "    <tr>\n",
       "      <th>0</th>\n",
       "      <td>1</td>\n",
       "      <td>PAYMENT</td>\n",
       "      <td>9839.64</td>\n",
       "      <td>C1231006815</td>\n",
       "      <td>170136.0</td>\n",
       "      <td>160296.36</td>\n",
       "      <td>M1979787155</td>\n",
       "      <td>0.0</td>\n",
       "      <td>0.0</td>\n",
       "      <td>0</td>\n",
       "      <td>0</td>\n",
       "    </tr>\n",
       "    <tr>\n",
       "      <th>1</th>\n",
       "      <td>1</td>\n",
       "      <td>PAYMENT</td>\n",
       "      <td>1864.28</td>\n",
       "      <td>C1666544295</td>\n",
       "      <td>21249.0</td>\n",
       "      <td>19384.72</td>\n",
       "      <td>M2044282225</td>\n",
       "      <td>0.0</td>\n",
       "      <td>0.0</td>\n",
       "      <td>0</td>\n",
       "      <td>0</td>\n",
       "    </tr>\n",
       "    <tr>\n",
       "      <th>2</th>\n",
       "      <td>1</td>\n",
       "      <td>TRANSFER</td>\n",
       "      <td>181.00</td>\n",
       "      <td>C1305486145</td>\n",
       "      <td>181.0</td>\n",
       "      <td>0.00</td>\n",
       "      <td>C553264065</td>\n",
       "      <td>0.0</td>\n",
       "      <td>0.0</td>\n",
       "      <td>1</td>\n",
       "      <td>0</td>\n",
       "    </tr>\n",
       "    <tr>\n",
       "      <th>3</th>\n",
       "      <td>1</td>\n",
       "      <td>CASH_OUT</td>\n",
       "      <td>181.00</td>\n",
       "      <td>C840083671</td>\n",
       "      <td>181.0</td>\n",
       "      <td>0.00</td>\n",
       "      <td>C38997010</td>\n",
       "      <td>21182.0</td>\n",
       "      <td>0.0</td>\n",
       "      <td>1</td>\n",
       "      <td>0</td>\n",
       "    </tr>\n",
       "    <tr>\n",
       "      <th>4</th>\n",
       "      <td>1</td>\n",
       "      <td>PAYMENT</td>\n",
       "      <td>11668.14</td>\n",
       "      <td>C2048537720</td>\n",
       "      <td>41554.0</td>\n",
       "      <td>29885.86</td>\n",
       "      <td>M1230701703</td>\n",
       "      <td>0.0</td>\n",
       "      <td>0.0</td>\n",
       "      <td>0</td>\n",
       "      <td>0</td>\n",
       "    </tr>\n",
       "  </tbody>\n",
       "</table>\n",
       "</div>"
      ],
      "text/plain": [
       "   step      type    amount     nameOrig  oldbalanceOrg  newbalanceOrig  \\\n",
       "0     1   PAYMENT   9839.64  C1231006815       170136.0       160296.36   \n",
       "1     1   PAYMENT   1864.28  C1666544295        21249.0        19384.72   \n",
       "2     1  TRANSFER    181.00  C1305486145          181.0            0.00   \n",
       "3     1  CASH_OUT    181.00   C840083671          181.0            0.00   \n",
       "4     1   PAYMENT  11668.14  C2048537720        41554.0        29885.86   \n",
       "\n",
       "      nameDest  oldbalanceDest  newbalanceDest  isFraud  isFlaggedFraud  \n",
       "0  M1979787155             0.0             0.0        0               0  \n",
       "1  M2044282225             0.0             0.0        0               0  \n",
       "2   C553264065             0.0             0.0        1               0  \n",
       "3    C38997010         21182.0             0.0        1               0  \n",
       "4  M1230701703             0.0             0.0        0               0  "
      ]
     },
     "execution_count": 2,
     "metadata": {},
     "output_type": "execute_result"
    }
   ],
   "source": [
    "df = pd.read_csv(\"Fraud.csv\")\n",
    "df.head()"
   ]
  },
  {
   "cell_type": "code",
   "execution_count": 3,
   "id": "d4438b51-c96e-4093-be33-5e613a47b8ab",
   "metadata": {},
   "outputs": [
    {
     "name": "stdout",
     "output_type": "stream",
     "text": [
      "<class 'pandas.core.frame.DataFrame'>\n",
      "RangeIndex: 6362620 entries, 0 to 6362619\n",
      "Data columns (total 11 columns):\n",
      " #   Column          Dtype  \n",
      "---  ------          -----  \n",
      " 0   step            int64  \n",
      " 1   type            object \n",
      " 2   amount          float64\n",
      " 3   nameOrig        object \n",
      " 4   oldbalanceOrg   float64\n",
      " 5   newbalanceOrig  float64\n",
      " 6   nameDest        object \n",
      " 7   oldbalanceDest  float64\n",
      " 8   newbalanceDest  float64\n",
      " 9   isFraud         int64  \n",
      " 10  isFlaggedFraud  int64  \n",
      "dtypes: float64(5), int64(3), object(3)\n",
      "memory usage: 534.0+ MB\n"
     ]
    }
   ],
   "source": [
    "df.info()"
   ]
  },
  {
   "cell_type": "code",
   "execution_count": 4,
   "id": "3fb9afce-2029-41f3-8f84-3c611f683449",
   "metadata": {},
   "outputs": [
    {
     "data": {
      "text/plain": [
       "step              0\n",
       "type              0\n",
       "amount            0\n",
       "nameOrig          0\n",
       "oldbalanceOrg     0\n",
       "newbalanceOrig    0\n",
       "nameDest          0\n",
       "oldbalanceDest    0\n",
       "newbalanceDest    0\n",
       "isFraud           0\n",
       "isFlaggedFraud    0\n",
       "dtype: int64"
      ]
     },
     "execution_count": 4,
     "metadata": {},
     "output_type": "execute_result"
    }
   ],
   "source": [
    "# Checking for missing values:\n",
    "df.isnull().sum()"
   ]
  },
  {
   "cell_type": "markdown",
   "id": "c0beae68-f189-4c96-97f8-a25c773ad1ac",
   "metadata": {},
   "source": [
    "###### Observation: No missing values were found."
   ]
  },
  {
   "cell_type": "markdown",
   "id": "e45f659c-d6be-4bce-9185-279874d49cf9",
   "metadata": {},
   "source": [
    "### Exploratory Data Analysis (EDA)"
   ]
  },
  {
   "cell_type": "code",
   "execution_count": 5,
   "id": "4ef39685-d5b6-4235-8876-2250103c03dd",
   "metadata": {},
   "outputs": [
    {
     "name": "stdout",
     "output_type": "stream",
     "text": [
      "isFraud\n",
      "0    6354407\n",
      "1       8213\n",
      "Name: count, dtype: int64\n"
     ]
    }
   ],
   "source": [
    "# Checking Class Distribution\n",
    "print(df['isFraud'].value_counts())"
   ]
  },
  {
   "cell_type": "markdown",
   "id": "e9604ab0-4dcc-400e-bbee-88f34b90a660",
   "metadata": {},
   "source": [
    "##### Observation: The dataset is highly imbalanced since majority of transactions are non-fraudulent"
   ]
  },
  {
   "cell_type": "code",
   "execution_count": 6,
   "id": "2299ba54-222b-4d35-9e2b-692a1dfd2ebb",
   "metadata": {},
   "outputs": [
    {
     "name": "stdout",
     "output_type": "stream",
     "text": [
      "           sum    count\n",
      "type                   \n",
      "CASH_IN      0  1399284\n",
      "CASH_OUT  4116  2237500\n",
      "DEBIT        0    41432\n",
      "PAYMENT      0  2151495\n",
      "TRANSFER  4097   532909\n"
     ]
    }
   ],
   "source": [
    "#Fraud Count by Transaction Type\n",
    "fraud_by_type = df.groupby('type')['isFraud'].agg(['sum', 'count'])\n",
    "print(fraud_by_type)"
   ]
  },
  {
   "cell_type": "markdown",
   "id": "edcca928-7fb1-4bb7-a3a4-ff1a32d33063",
   "metadata": {},
   "source": [
    "##### Fraud is mainly seen in CASH_OUT and TRANSFER transactions."
   ]
  },
  {
   "cell_type": "code",
   "execution_count": 7,
   "id": "8b993db9-36d5-47e5-9f53-cb15d998a57a",
   "metadata": {},
   "outputs": [],
   "source": [
    "# Feature Engineering\n",
    "df['emptied_account'] = (df['newbalanceOrig'] == 0).astype(int)\n",
    "df['balance_diff'] = df['oldbalanceOrg'] - df['amount']\n",
    "df['new_account_dest'] = df['oldbalanceDest'] == 0\n",
    "\n",
    "# Fraudsters often empty accounts after transactions.\n",
    "# New accounts may indicate suspicious activities."
   ]
  },
  {
   "cell_type": "markdown",
   "id": "fc0aa687-611e-475e-9ebe-4ef928c2d38a",
   "metadata": {},
   "source": [
    "### Data Preprocessing and Handling Imbalance"
   ]
  },
  {
   "cell_type": "code",
   "execution_count": 8,
   "id": "1d746f21-bc0c-44b5-be8f-12146d713aa0",
   "metadata": {},
   "outputs": [
    {
     "name": "stdout",
     "output_type": "stream",
     "text": [
      "isFraud\n",
      "0    1933569\n",
      "1    1933569\n",
      "Name: count, dtype: int64\n"
     ]
    }
   ],
   "source": [
    "# Filtering Relevant Transactions\n",
    "df_filtered = df[(df['type'] == 'CASH_OUT') | (df['type'] == 'TRANSFER')]\n",
    "df_filtered = df_filtered.drop(columns=['nameOrig', 'nameDest', 'step', 'type'])\n",
    "\n",
    "# Handling Imbalanced Data with SMOTE (Synthetic Minority Oversampling Technique)\n",
    "X = df_filtered.drop(columns=['isFraud'])\n",
    "y = df_filtered['isFraud']\n",
    "# Splitting into train & test sets\n",
    "X_train, X_test, y_train, y_test = train_test_split(X, y, test_size=0.3, random_state=42)\n",
    "# Applying SMOTE\n",
    "smote = SMOTE(random_state=42)\n",
    "X_train_resampled, y_train_resampled = smote.fit_resample(X_train, y_train)\n",
    "# Class distribution after SMOTE\n",
    "print(y_train_resampled.value_counts())"
   ]
  },
  {
   "cell_type": "markdown",
   "id": "8fc7e728-bcb5-4dac-87ad-6c399e0ac51e",
   "metadata": {},
   "source": [
    "### Model Training & Evaluation"
   ]
  },
  {
   "cell_type": "markdown",
   "id": "edd27292-e5b6-4ce8-8eae-0e3fc6ca606d",
   "metadata": {},
   "source": [
    "##### Logistic Regression Model"
   ]
  },
  {
   "cell_type": "code",
   "execution_count": 9,
   "id": "0c5b6870-f5a3-4325-a68f-deadc0e19d62",
   "metadata": {},
   "outputs": [
    {
     "name": "stdout",
     "output_type": "stream",
     "text": [
      "Accuracy: 0.9318969635060034\n",
      "\n",
      "Classification Report:\n",
      "               precision    recall  f1-score   support\n",
      "\n",
      "           0       1.00      0.93      0.96    828627\n",
      "           1       0.04      0.91      0.07      2496\n",
      "\n",
      "    accuracy                           0.93    831123\n",
      "   macro avg       0.52      0.92      0.52    831123\n",
      "weighted avg       1.00      0.93      0.96    831123\n",
      "\n",
      "\n",
      "Confusion Matrix:\n",
      " [[772242  56385]\n",
      " [   217   2279]]\n"
     ]
    }
   ],
   "source": [
    "model = LogisticRegression(max_iter=500)\n",
    "model.fit(X_train_resampled, y_train_resampled)\n",
    "\n",
    "y_pred = model.predict(X_test)\n",
    "\n",
    "# Model evaluation\n",
    "print(\"Accuracy:\", accuracy_score(y_test, y_pred))\n",
    "print(\"\\nClassification Report:\\n\", classification_report(y_test, y_pred))\n",
    "print(\"\\nConfusion Matrix:\\n\", confusion_matrix(y_test, y_pred))"
   ]
  },
  {
   "cell_type": "markdown",
   "id": "6aea96cc-44e6-46ba-9e83-81ed405f0ed2",
   "metadata": {},
   "source": [
    "##### Random Forest Model (Tuned)"
   ]
  },
  {
   "cell_type": "code",
   "execution_count": 10,
   "id": "22dfd0be-2aee-41fb-a09d-c7a05a61125c",
   "metadata": {},
   "outputs": [
    {
     "name": "stdout",
     "output_type": "stream",
     "text": [
      "Accuracy: 0.9998724617174594\n",
      "\n",
      "Classification Report:\n",
      "               precision    recall  f1-score   support\n",
      "\n",
      "           0       1.00      1.00      1.00    828627\n",
      "           1       0.96      1.00      0.98      2496\n",
      "\n",
      "    accuracy                           1.00    831123\n",
      "   macro avg       0.98      1.00      0.99    831123\n",
      "weighted avg       1.00      1.00      1.00    831123\n",
      "\n",
      "\n",
      "Confusion Matrix:\n",
      " [[828530     97]\n",
      " [     9   2487]]\n"
     ]
    }
   ],
   "source": [
    "rf_model = RandomForestClassifier(n_estimators=50, max_depth=10, min_samples_split=5, min_samples_leaf=2, random_state=42, n_jobs=-1)\n",
    "rf_model.fit(X_train_resampled, y_train_resampled)\n",
    "\n",
    "y_pred_rf = rf_model.predict(X_test)\n",
    "\n",
    "# Model Evaluation\n",
    "print(\"Accuracy:\", accuracy_score(y_test, y_pred_rf))\n",
    "print(\"\\nClassification Report:\\n\", classification_report(y_test, y_pred_rf))\n",
    "print(\"\\nConfusion Matrix:\\n\", confusion_matrix(y_test, y_pred_rf))"
   ]
  },
  {
   "cell_type": "markdown",
   "id": "48685ba1-4722-440e-9904-eac478a1a0eb",
   "metadata": {},
   "source": [
    "### Feature Importance Analysis"
   ]
  },
  {
   "cell_type": "code",
   "execution_count": 15,
   "id": "815f3c5f-ba25-43bb-a3db-9e3bc74170ed",
   "metadata": {},
   "outputs": [
    {
     "data": {
      "image/png": "[encoded data removed]",
      "text/plain": [
       "<Figure size 1000x600 with 1 Axes>"
      ]
     },
     "metadata": {},
     "output_type": "display_data"
    }
   ],
   "source": [
    "# Extract feature importance\n",
    "feature_importances = rf_model.feature_importances_\n",
    "features = X_train_resampled.columns\n",
    "\n",
    "# Sort feature importance\n",
    "sorted_indices = np.argsort(feature_importances)[::-1]\n",
    "\n",
    "# Plot feature importance\n",
    "plt.figure(figsize=(10,6))\n",
    "plt.bar(range(len(features)), feature_importances[sorted_indices], align=\"center\")\n",
    "plt.xticks(range(len(features)), np.array(features)[sorted_indices], rotation=45)\n",
    "plt.xlabel(\"Feature\")\n",
    "plt.ylabel(\"Importance Score\")\n",
    "plt.title(\"Feature Importance in Fraud Detection\")\n",
    "plt.show()"
   ]
  },
  {
   "cell_type": "markdown",
   "id": "6d0bdd2e-2909-4eec-8f9c-85f9254828d3",
   "metadata": {},
   "source": [
    "##### Observations:\n",
    "\n",
    "The difference between the sender’s old and new balance is the most important factor in detecting fraud, showing that fraudsters often empty accounts.\n",
    "\n",
    "The sender’s initial balance also plays an important role, as high-balance accounts are more likely to be targeted.\n",
    "\n",
    "The transaction amount and receiver’s final balance have moderate influence, while the system’s fraud flagging mechanism is the least effective in identifying fraud."
   ]
  },
  {
   "cell_type": "markdown",
   "id": "533ac0f6-807d-4051-9b39-215e98e9db8b",
   "metadata": {},
   "source": []
  }
 ],
 "metadata": {
  "kernelspec": {
   "display_name": "Python 3 (ipykernel)",
   "language": "python",
   "name": "python3"
  },
  "language_info": {
   "codemirror_mode": {
    "name": "ipython",
    "version": 3
   },
   "file_extension": ".py",
   "mimetype": "text/x-python",
   "name": "python",
   "nbconvert_exporter": "python",
   "pygments_lexer": "ipython3",
   "version": "3.11.5"
  },
  "widgets": {
   "application/vnd.jupyter.widget-state+json": {
    "state": {},
    "version_major": 2,
    "version_minor": 0
   }
  }
 },
 "nbformat": 4,
 "nbformat_minor": 5
}
